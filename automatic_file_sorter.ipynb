{
 "cells": [
  {
   "cell_type": "markdown",
   "id": "2d0142f9",
   "metadata": {},
   "source": [
    "# Automatic file sorter in File Explorer\n"
   ]
  },
  {
   "cell_type": "code",
   "execution_count": 18,
   "id": "ed3ddbc6",
   "metadata": {},
   "outputs": [],
   "source": [
    "import os, shutil"
   ]
  },
  {
   "cell_type": "code",
   "execution_count": 19,
   "id": "5fa60b2e",
   "metadata": {},
   "outputs": [],
   "source": [
    "path = \"D:/pythonProject/\""
   ]
  },
  {
   "cell_type": "code",
   "execution_count": 20,
   "id": "5fdb8e5b",
   "metadata": {},
   "outputs": [],
   "source": [
    "file_name = os.listdir(path)"
   ]
  },
  {
   "cell_type": "code",
   "execution_count": 23,
   "id": "538f36ee",
   "metadata": {},
   "outputs": [],
   "source": [
    "folder_name = ['CSV files', 'JPG files', 'PNG files', 'PDF files']\n",
    "\n",
    "for loop in range(0, 4):\n",
    "    if not os.path.exists(path + folder_name[loop]):\n",
    "        os.makedirs((path + folder_name[loop]))\n",
    "        \n",
    "for file in file_name:\n",
    "    if \".csv\" in file and not os.path.exists(path + \"CSV files/\" + file):\n",
    "        shutil.move(path + file, path + \"CSV files/\" + file)\n",
    "    elif \".jpg\" in file and not os.path.exists(path + \"JPG files/\" + file):\n",
    "        shutil.move(path + file, path + \"JPG files/\" + file)\n",
    "    elif \".png\" in file and not os.path.exists(path + \"PNG files/\" + file):\n",
    "        shutil.move(path + file, path + \"PNG files/\" + file)\n",
    "    elif \".pdf\" in file and not os.path.exists(path + \"PDF files/\" + file):\n",
    "        shutil.move(path + file, path + \"PDF files/\" + file)"
   ]
  },
  {
   "cell_type": "code",
   "execution_count": 17,
   "id": "07630132",
   "metadata": {},
   "outputs": [],
   "source": []
  },
  {
   "cell_type": "code",
   "execution_count": null,
   "id": "7cd232ca",
   "metadata": {},
   "outputs": [],
   "source": []
  },
  {
   "cell_type": "code",
   "execution_count": null,
   "id": "969605a9",
   "metadata": {},
   "outputs": [],
   "source": []
  },
  {
   "cell_type": "code",
   "execution_count": null,
   "id": "4eaba194",
   "metadata": {},
   "outputs": [],
   "source": []
  },
  {
   "cell_type": "code",
   "execution_count": null,
   "id": "ddc7d46d",
   "metadata": {},
   "outputs": [],
   "source": []
  },
  {
   "cell_type": "code",
   "execution_count": null,
   "id": "918fa966",
   "metadata": {},
   "outputs": [],
   "source": []
  },
  {
   "cell_type": "code",
   "execution_count": null,
   "id": "7e37b8bf",
   "metadata": {},
   "outputs": [],
   "source": []
  },
  {
   "cell_type": "code",
   "execution_count": null,
   "id": "9dc87db8",
   "metadata": {},
   "outputs": [],
   "source": []
  },
  {
   "cell_type": "code",
   "execution_count": null,
   "id": "edfdab1f",
   "metadata": {},
   "outputs": [],
   "source": []
  },
  {
   "cell_type": "code",
   "execution_count": null,
   "id": "c9eff0ca",
   "metadata": {},
   "outputs": [],
   "source": []
  },
  {
   "cell_type": "code",
   "execution_count": null,
   "id": "27196495",
   "metadata": {},
   "outputs": [],
   "source": []
  },
  {
   "cell_type": "code",
   "execution_count": null,
   "id": "94540f3e",
   "metadata": {},
   "outputs": [],
   "source": []
  },
  {
   "cell_type": "code",
   "execution_count": null,
   "id": "4479dac7",
   "metadata": {},
   "outputs": [],
   "source": []
  },
  {
   "cell_type": "code",
   "execution_count": null,
   "id": "f146bb58",
   "metadata": {},
   "outputs": [],
   "source": []
  }
 ],
 "metadata": {
  "kernelspec": {
   "display_name": "Python 3 (ipykernel)",
   "language": "python",
   "name": "python3"
  },
  "language_info": {
   "codemirror_mode": {
    "name": "ipython",
    "version": 3
   },
   "file_extension": ".py",
   "mimetype": "text/x-python",
   "name": "python",
   "nbconvert_exporter": "python",
   "pygments_lexer": "ipython3",
   "version": "3.11.5"
  }
 },
 "nbformat": 4,
 "nbformat_minor": 5
}
