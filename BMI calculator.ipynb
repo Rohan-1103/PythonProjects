{
 "cells": [
  {
   "cell_type": "markdown",
   "id": "e263443c",
   "metadata": {},
   "source": [
    "# BMI calculator"
   ]
  },
  {
   "cell_type": "code",
   "execution_count": 30,
   "id": "b74f952f",
   "metadata": {},
   "outputs": [
    {
     "name": "stdout",
     "output_type": "stream",
     "text": [
      "Enter your weight in kg : 48\n",
      "Enter your height in inches : 64\n",
      "18.157171875\n",
      "You are underweight.\n"
     ]
    }
   ],
   "source": [
    "weight = float(input(\"Enter your weight in kg : \"))\n",
    "\n",
    "weight_p = (weight) * 2.204\n",
    "\n",
    "height = float(input(\"Enter your height in inches : \"))\n",
    "\n",
    "BMI = (weight_p * 703) / (height * height)\n",
    "print(BMI)\n",
    "if BMI > 0:\n",
    "    if (BMI < 18.5):\n",
    "        print(\"You are underweight.\")\n",
    "    elif(BMI <= 24.9):\n",
    "        print(\"You are normal weight.\")\n",
    "    elif(BMI <= 29.9):\n",
    "        print(\"You are overweight.\")\n",
    "    elif(BMI <= 34.9):\n",
    "        print(\"You are obese weight.\")\n",
    "    elif(BMI <= 39.9):\n",
    "        print(\"You are severely obese weight.\")\n",
    "    elif(BMI > 40):\n",
    "        print(\"You are over morbidly obese weight.\")\n",
    "    else:\n",
    "        print(\"Enter valid inputs...\")"
   ]
  },
  {
   "cell_type": "code",
   "execution_count": null,
   "id": "6064bd01",
   "metadata": {},
   "outputs": [],
   "source": []
  },
  {
   "cell_type": "code",
   "execution_count": null,
   "id": "c407d02d",
   "metadata": {},
   "outputs": [],
   "source": []
  },
  {
   "cell_type": "code",
   "execution_count": null,
   "id": "229389cf",
   "metadata": {},
   "outputs": [],
   "source": []
  },
  {
   "cell_type": "code",
   "execution_count": null,
   "id": "54d7f206",
   "metadata": {},
   "outputs": [],
   "source": []
  },
  {
   "cell_type": "code",
   "execution_count": null,
   "id": "8ccf3d54",
   "metadata": {},
   "outputs": [],
   "source": []
  },
  {
   "cell_type": "code",
   "execution_count": null,
   "id": "35b2e49e",
   "metadata": {},
   "outputs": [],
   "source": []
  },
  {
   "cell_type": "code",
   "execution_count": null,
   "id": "ab2bab69",
   "metadata": {},
   "outputs": [],
   "source": []
  }
 ],
 "metadata": {
  "kernelspec": {
   "display_name": "Python 3 (ipykernel)",
   "language": "python",
   "name": "python3"
  },
  "language_info": {
   "codemirror_mode": {
    "name": "ipython",
    "version": 3
   },
   "file_extension": ".py",
   "mimetype": "text/x-python",
   "name": "python",
   "nbconvert_exporter": "python",
   "pygments_lexer": "ipython3",
   "version": "3.11.5"
  }
 },
 "nbformat": 4,
 "nbformat_minor": 5
}
